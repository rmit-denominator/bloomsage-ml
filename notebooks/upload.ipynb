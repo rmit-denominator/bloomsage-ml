{
 "cells": [
  {
   "cell_type": "code",
   "execution_count": null,
   "metadata": {},
   "outputs": [],
   "source": [
    "\n",
    "import os, sys\n",
    "from datasets import load_dataset\n",
    "module_path = os.path.abspath(os.path.join('..'))\n",
    "if module_path not in sys.path:\n",
    "    sys.path.append(module_path)\n",
    "import pandas as pandas\n",
    "from utils import dataset\n",
    "\n",
    "dir_raw_dataset = os.path.join('../data/raw/')\n",
    "dir_recommender_database = os.path.join('../data/recommender-database/')"
   ]
  },
  {
   "cell_type": "code",
   "execution_count": null,
   "metadata": {},
   "outputs": [],
   "source": [
    "flower = dataset.load(dir_raw_dataset)\n",
    "recc = dataset.load(dir_recommender_database)"
   ]
  },
  {
   "cell_type": "code",
   "execution_count": null,
   "metadata": {},
   "outputs": [],
   "source": [
    "# push to hub \n",
    "flower.push_to_hub('Namprolah/Bloomsage')\n",
    "recc.push_to_hub('rmit-denominator/bloomsage-recommender-dataset')"
   ]
  },
  {
   "cell_type": "code",
   "execution_count": null,
   "metadata": {},
   "outputs": [],
   "source": [
    "# upload model \n",
    "!huggingface-cli login --token <Insert your write toklen here>\n",
    "# for create a repo\n",
    "!huggingface-cli repo create <Insert your preferences repo name + organization here>\n",
    "! git clone <model repo>\n",
    "! git add <model>\n",
    "! git commit -m <model>\n",
    "! git push "
   ]
  }
 ],
 "metadata": {
  "kernelspec": {
   "display_name": "Python 3",
   "language": "python",
   "name": "python3"
  },
  "language_info": {
   "codemirror_mode": {
    "name": "ipython",
    "version": 3
   },
   "file_extension": ".py",
   "mimetype": "text/x-python",
   "name": "python",
   "nbconvert_exporter": "python",
   "pygments_lexer": "ipython3",
   "version": "3.10.11"
  }
 },
 "nbformat": 4,
 "nbformat_minor": 2
}
